{
 "cells": [
  {
   "cell_type": "markdown",
   "metadata": {},
   "source": [
    "# Level 2"
   ]
  },
  {
   "cell_type": "markdown",
   "metadata": {},
   "source": [
    "### 124 나라의 숫자\n",
    "https://programmers.co.kr/learn/courses/30/lessons/12899"
   ]
  },
  {
   "cell_type": "code",
   "execution_count": 1,
   "metadata": {},
   "outputs": [],
   "source": [
    "def sub_func(a, n_list):\n",
    "    m, n = a//3, a%3\n",
    "    n_list.append(repr(n))\n",
    "    if m > 2:\n",
    "        n_list = sub_func(m, n_list)\n",
    "    return n_list\n",
    "    \n",
    "def main_func(i):\n",
    "    m, n = i//3, i%3\n",
    "    n_list = [repr(n)]\n",
    "    if m > 2:\n",
    "        n_list = sub_func(m, n_list)\n",
    "    return n_list\n",
    "\n",
    "def solution(n):\n",
    "    sum_t = 0\n",
    "    c = 0\n",
    "    while n >= sum_t:\n",
    "        memo = sum_t\n",
    "        sum_t = sum([3**i for i in range(c)])\n",
    "        c += 1\n",
    "        \n",
    "    ans = ''.join(reversed(main_func(n + (memo*2+1 - memo))))\n",
    "    ans = ans.replace('2', '4')\n",
    "    ans = ans.replace('1', '2')\n",
    "    ans = ans.replace('0', '1')\n",
    "    return ans"
   ]
  },
  {
   "cell_type": "code",
   "execution_count": 2,
   "metadata": {
    "scrolled": false
   },
   "outputs": [
    {
     "name": "stdout",
     "output_type": "stream",
     "text": [
      "1 3 ['0']\n",
      "2 4 ['1']\n",
      "3 5 ['2']\n",
      "4 9 ['0', '0']\n",
      "5 10 ['1', '0']\n",
      "6 11 ['2', '0']\n",
      "7 12 ['0', '1']\n",
      "8 13 ['1', '1']\n",
      "9 14 ['2', '1']\n",
      "10 15 ['0', '2']\n",
      "11 16 ['1', '2']\n",
      "12 17 ['2', '2']\n"
     ]
    }
   ],
   "source": [
    "a_list = [3**i for i in range(1, 3)]\n",
    "b_list = [3**i*2 for i in range(1, 3)]\n",
    "\n",
    "cnt = 1\n",
    "for a, b in zip(a_list, b_list):\n",
    "    for i in range(a, b):\n",
    "        print(cnt, i, main_func(i))\n",
    "        cnt += 1"
   ]
  },
  {
   "cell_type": "code",
   "execution_count": 3,
   "metadata": {
    "scrolled": true
   },
   "outputs": [
    {
     "name": "stdout",
     "output_type": "stream",
     "text": [
      "421211211121241112\n",
      "0.00096893310546875\n"
     ]
    }
   ],
   "source": [
    "import time\n",
    "s = time.time()\n",
    "n = 500000000\n",
    "print(solution(n))\n",
    "print(time.time() - s)"
   ]
  },
  {
   "cell_type": "code",
   "execution_count": 4,
   "metadata": {},
   "outputs": [],
   "source": [
    "def change124(n):\n",
    "    return ['4', '1', '2'][n%3] if n < 4 else change124((n-1) // 3) + ['4', '1', '2'][n%3]"
   ]
  },
  {
   "cell_type": "code",
   "execution_count": 5,
   "metadata": {},
   "outputs": [
    {
     "name": "stdout",
     "output_type": "stream",
     "text": [
      "421211211121241112\n",
      "0.0\n"
     ]
    }
   ],
   "source": [
    "import time\n",
    "s = time.time()\n",
    "n = 500000000\n",
    "print(change124(n))\n",
    "print(time.time() - s)"
   ]
  },
  {
   "cell_type": "markdown",
   "metadata": {},
   "source": [
    "### 스킬트리\n",
    "https://programmers.co.kr/learn/courses/30/lessons/49993"
   ]
  },
  {
   "cell_type": "code",
   "execution_count": 6,
   "metadata": {},
   "outputs": [],
   "source": [
    "def solution(skill, skill_trees):\n",
    "    \n",
    "    c = 0\n",
    "    for skill_tree in skill_trees:\n",
    "        sk_id = []\n",
    "        \n",
    "        for sk in skill:\n",
    "            sk_id.append(skill_tree.find(sk))\n",
    "            \n",
    "        while sk_id[-1:] == [-1]:\n",
    "            sk_id.pop(-1)\n",
    "            \n",
    "        if -1 in sk_id:\n",
    "            continue\n",
    "            \n",
    "        if sk_id == sorted(sk_id):\n",
    "            c+=1\n",
    "            \n",
    "    return c"
   ]
  },
  {
   "cell_type": "code",
   "execution_count": 7,
   "metadata": {},
   "outputs": [
    {
     "data": {
      "text/plain": [
       "2"
      ]
     },
     "execution_count": 7,
     "metadata": {},
     "output_type": "execute_result"
    }
   ],
   "source": [
    "skill = 'BAD'\n",
    "skill_trees = ['BACDE', 'CBADF', 'AECB', 'BDA']\n",
    "solution(skill, skill_trees)"
   ]
  },
  {
   "cell_type": "markdown",
   "metadata": {},
   "source": [
    "### 탑"
   ]
  },
  {
   "cell_type": "code",
   "execution_count": 8,
   "metadata": {},
   "outputs": [],
   "source": [
    "import numpy as np\n",
    "def solution(heights):\n",
    "    h = np.array(heights)\n",
    "    r_list = []\n",
    "    for i in range(len(h)-1):\n",
    "        try:\n",
    "            r_list.append(max(np.where(h > h[-1])[0])+1)\n",
    "        except:\n",
    "            r_list.append(0)\n",
    "        h = np.delete(h, -1)\n",
    "    r_list.append(0)\n",
    "    return list(reversed(r_list))"
   ]
  },
  {
   "cell_type": "code",
   "execution_count": 9,
   "metadata": {},
   "outputs": [
    {
     "data": {
      "text/plain": [
       "[0, 0, 2, 0, 0, 5, 6]"
      ]
     },
     "execution_count": 9,
     "metadata": {},
     "output_type": "execute_result"
    }
   ],
   "source": [
    "heights = [1,5,3,6,7,6,5]\n",
    "solution(heights)"
   ]
  },
  {
   "cell_type": "markdown",
   "metadata": {},
   "source": [
    "### 기능개발\n",
    "https://programmers.co.kr/learn/courses/30/lessons/42586"
   ]
  },
  {
   "cell_type": "code",
   "execution_count": 10,
   "metadata": {},
   "outputs": [],
   "source": [
    "def solution(progresses, speeds):\n",
    "    \n",
    "    day = [len(range(pr, 100, sp)) for pr, sp in zip(progresses, speeds)]\n",
    "\n",
    "    delay = day[0]\n",
    "    ex_list = [1]\n",
    "    \n",
    "    for d in day[1:]:\n",
    "        if delay >= d:\n",
    "            ex_list[-1] += 1\n",
    "        else:\n",
    "            ex_list.append(1)\n",
    "            delay = d\n",
    "    return ex_list"
   ]
  },
  {
   "cell_type": "code",
   "execution_count": 11,
   "metadata": {},
   "outputs": [
    {
     "data": {
      "text/plain": [
       "[2, 2]"
      ]
     },
     "execution_count": 11,
     "metadata": {},
     "output_type": "execute_result"
    }
   ],
   "source": [
    "progresses = [93,30,55,94]\n",
    "speeds = [1,30,5, 4]\n",
    "solution(progresses, speeds)"
   ]
  },
  {
   "cell_type": "markdown",
   "metadata": {},
   "source": [
    "### 쇠막대기"
   ]
  },
  {
   "cell_type": "code",
   "execution_count": 12,
   "metadata": {},
   "outputs": [],
   "source": [
    "import numpy as np\n",
    "\n",
    "def solution(arr):\n",
    "    \n",
    "    answer = 0\n",
    "    line = 0\n",
    "    c = 0\n",
    "    arr = arr.replace('()', '1')\n",
    "    arr = arr.replace('(', '2')\n",
    "    arr = arr.replace(')', '0')\n",
    "    arr = np.array(list(map(int, arr)))\n",
    "    l = np.sum(arr)\n",
    "    arr -= 1\n",
    "    for a in arr:\n",
    "        if a == 0:\n",
    "            c += 1\n",
    "            answer += line\n",
    "        else:\n",
    "            line += a\n",
    "            \n",
    "    return int(answer + (l - c)/2)"
   ]
  },
  {
   "cell_type": "code",
   "execution_count": 13,
   "metadata": {},
   "outputs": [
    {
     "data": {
      "text/plain": [
       "100012"
      ]
     },
     "execution_count": 13,
     "metadata": {},
     "output_type": "execute_result"
    }
   ],
   "source": [
    "arr = '()(((()())(())()))(())'\n",
    "solution(arr)\n",
    "len(arr*4546)"
   ]
  },
  {
   "cell_type": "code",
   "execution_count": 14,
   "metadata": {},
   "outputs": [
    {
     "name": "stdout",
     "output_type": "stream",
     "text": [
      "85000\n",
      "0.03487706184387207\n"
     ]
    }
   ],
   "source": [
    "import time\n",
    "s = time.time()\n",
    "arr = '()(((()())(())()))(())'*5000\n",
    "print(solution(arr))\n",
    "print(time.time() - s)"
   ]
  },
  {
   "cell_type": "markdown",
   "metadata": {},
   "source": [
    "### 위장\n",
    "https://programmers.co.kr/learn/courses/30/lessons/42578"
   ]
  },
  {
   "cell_type": "code",
   "execution_count": 15,
   "metadata": {},
   "outputs": [],
   "source": [
    "from itertools import combinations\n",
    "from functools import reduce\n",
    "import collections\n",
    "\n",
    "def solution(clothes):\n",
    "    cnt_list = collections.Counter([cloth[1] for cloth in clothes])\n",
    "    cnt_list = list(cnt_list.values())\n",
    "    \n",
    "    m_list = []\n",
    "    for i in range(1, len(cnt_list)+1):\n",
    "        m_list.append(sum([reduce(lambda x, y: x * y, j) for j in combinations(cnt_list, i)]))\n",
    "    return sum(m_list)"
   ]
  },
  {
   "cell_type": "code",
   "execution_count": 16,
   "metadata": {},
   "outputs": [],
   "source": [
    "import collections as c\n",
    "\n",
    "def solution(clothes):\n",
    "    cnt_list = c.Counter([cloth[1] for cloth in clothes])\n",
    "    return eval('*'.join(map(repr, map(lambda x: x + 1, cnt_list.values())))) - 1"
   ]
  },
  {
   "cell_type": "code",
   "execution_count": 17,
   "metadata": {
    "scrolled": true
   },
   "outputs": [
    {
     "data": {
      "text/plain": [
       "5"
      ]
     },
     "execution_count": 17,
     "metadata": {},
     "output_type": "execute_result"
    }
   ],
   "source": [
    "clothes = [[\"yellow_hat\", \"headgear\"], [\"blue_sunglasses\", \"eyewear\"], [\"green_turban\", \"headgear\"]]\n",
    "solution(clothes)"
   ]
  },
  {
   "cell_type": "code",
   "execution_count": 18,
   "metadata": {
    "scrolled": true
   },
   "outputs": [
    {
     "data": {
      "text/plain": [
       "3"
      ]
     },
     "execution_count": 18,
     "metadata": {},
     "output_type": "execute_result"
    }
   ],
   "source": [
    "clothes = [['crow_mask', 'face'], ['blue_sunglasses', 'face'], ['smoky_makeup', 'face']]\n",
    "solution(clothes)"
   ]
  },
  {
   "cell_type": "code",
   "execution_count": 19,
   "metadata": {
    "scrolled": true
   },
   "outputs": [
    {
     "data": {
      "text/plain": [
       "6"
      ]
     },
     "execution_count": 19,
     "metadata": {},
     "output_type": "execute_result"
    }
   ],
   "source": [
    "arr = [3, 2, 1]\n",
    "\n",
    "list(map(lambda x: x + 1, arr)) # 넘파이 처럼 요소 덧셈\n",
    "\n",
    "from functools import reduce\n",
    "reduce(lambda x, y: x * y, arr) # sum처럼 리스트 곱 빠름\n",
    "\n",
    "eval('*'.join(map(repr, arr))) # sum처럼 리스트 곱 좀 느림"
   ]
  },
  {
   "cell_type": "markdown",
   "metadata": {},
   "source": [
    "### 주식가격\n",
    "https://programmers.co.kr/learn/courses/30/lessons/42584"
   ]
  },
  {
   "cell_type": "code",
   "execution_count": 20,
   "metadata": {},
   "outputs": [],
   "source": [
    "def solution(prices):\n",
    "    \n",
    "    l = len(prices)\n",
    "    answer = []\n",
    "    \n",
    "    for i in range(l):\n",
    "        period = 0\n",
    "        for j in range(i+1, l):\n",
    "            period += 1\n",
    "            if prices[i] > prices[j]:\n",
    "                break\n",
    "        answer.append(period)\n",
    "\n",
    "    return answer"
   ]
  },
  {
   "cell_type": "code",
   "execution_count": 21,
   "metadata": {},
   "outputs": [
    {
     "data": {
      "text/plain": [
       "[1, 1, 3, 2, 1, 0]"
      ]
     },
     "execution_count": 21,
     "metadata": {},
     "output_type": "execute_result"
    }
   ],
   "source": [
    "prices=[1, 2, 3, 2, 3]\n",
    "prices=[5,4,3,5,6,5]\n",
    "solution(prices)"
   ]
  },
  {
   "cell_type": "code",
   "execution_count": 22,
   "metadata": {},
   "outputs": [],
   "source": [
    "from collections import deque\n",
    "\n",
    "def solution(prices):\n",
    "    \n",
    "    prices = deque(prices)\n",
    "    answer = []\n",
    "    \n",
    "    while prices:\n",
    "        period = 0\n",
    "        price = prices.popleft()\n",
    "        for p in prices:\n",
    "            period += 1\n",
    "            if price > p:\n",
    "                break\n",
    "        answer.append(period)\n",
    "\n",
    "    return answer"
   ]
  },
  {
   "cell_type": "code",
   "execution_count": 23,
   "metadata": {},
   "outputs": [
    {
     "data": {
      "text/plain": [
       "[1, 1, 3, 2, 1, 0]"
      ]
     },
     "execution_count": 23,
     "metadata": {},
     "output_type": "execute_result"
    }
   ],
   "source": [
    "prices=[1, 2, 3, 2, 3]\n",
    "prices=[5,4,3,5,6,5]\n",
    "solution(prices)"
   ]
  },
  {
   "cell_type": "markdown",
   "metadata": {},
   "source": [
    "테스트 1 〉통과 (0.04ms, 10.7MB) > 통과 (0.04ms, 10.7MB)\n",
    "\n",
    "테스트 2 〉통과 (0.08ms, 10.7MB) > 통과 (0.06ms, 10.8MB)\n",
    "\n",
    "테스트 3 〉통과 (0.62ms, 10.8MB) > 통과 (0.35ms, 10.9MB)\n",
    "\n",
    "테스트 4 〉통과 (0.68ms, 10.8MB) > 통과 (0.37ms, 10.8MB)\n",
    "\n",
    "테스트 5 〉통과 (0.88ms, 11MB)   > 통과 (0.49ms, 10.9MB)\n",
    "\n",
    "테스트 6 〉통과 (0.06ms, 10.8MB) > 통과 (0.05ms, 10.7MB)\n",
    "\n",
    "테스트 7 〉통과 (0.41ms, 10.8MB) > 통과 (0.23ms, 10.8MB)\n",
    "\n",
    "테스트 8 〉통과 (0.50ms, 10.8MB) > 통과 (0.27ms, 10.9MB)\n",
    "\n",
    "테스트 9 〉통과 (0.07ms, 10.7MB) > 통과 (0.05ms, 10.7MB)\n",
    "\n",
    "테스트 10〉통과 (0.86ms, 10.9MB) > 통과 (0.46ms, 11MB)\n",
    "\n",
    "효율성  테스트\n",
    "\n",
    "테스트 1 〉통과 (119.42ms, 141MB) > 통과 (62.44ms, 141MB)\n",
    "\n",
    "테스트 2 〉통과 (92.65ms, 105MB) > 통과 (48.14ms, 105MB)\n",
    "\n",
    "테스트 3 〉통과 (153.69ms, 157MB) > 통과 (77.74ms, 157MB)\n",
    "\n",
    "테스트 4 〉통과 (105.58ms, 120MB) > 통과 (55.03ms, 120MB)\n",
    "\n",
    "테스트 5 〉통과 (70.57ms, 88.1MB) > 통과 (37.49ms, 88.3MB)"
   ]
  },
  {
   "cell_type": "markdown",
   "metadata": {},
   "source": [
    "### 문자열 압축\n",
    "https://programmers.co.kr/learn/courses/30/lessons/60057"
   ]
  },
  {
   "cell_type": "code",
   "execution_count": 1,
   "metadata": {},
   "outputs": [],
   "source": [
    "def solution(s):\n",
    "    L = len(s)\n",
    "    P = int(L/2)\n",
    "    \n",
    "    len_l = []\n",
    "    \n",
    "    if P == 0: return 1\n",
    "    \n",
    "    for p in range(P, 0, -1):\n",
    "        arr = [s[i:i+p] for i in range(0, L, p)]\n",
    "        \n",
    "        count = 1\n",
    "        buffer = arr[0]\n",
    "        cnt = len(buffer)\n",
    "        \n",
    "        for i in arr[1:]:\n",
    "            if i != buffer:\n",
    "                buffer = i\n",
    "                if count != 1:\n",
    "                    cnt += 1\n",
    "                cnt += len(buffer)\n",
    "                count = 1\n",
    "            else: count += 1\n",
    "                \n",
    "        if count != 1: cnt += 1\n",
    "        len_l.append(cnt)\n",
    "            \n",
    "    return min(len_l)"
   ]
  },
  {
   "cell_type": "code",
   "execution_count": 2,
   "metadata": {},
   "outputs": [
    {
     "data": {
      "text/plain": [
       "7"
      ]
     },
     "execution_count": 2,
     "metadata": {},
     "output_type": "execute_result"
    }
   ],
   "source": [
    "s = \"aabbaccc\"\n",
    "solution(s)"
   ]
  },
  {
   "cell_type": "markdown",
   "metadata": {},
   "source": [
    "### 프린터\n",
    "https://programmers.co.kr/learn/courses/30/lessons/42587"
   ]
  },
  {
   "cell_type": "code",
   "execution_count": 24,
   "metadata": {},
   "outputs": [],
   "source": [
    "from collections import deque\n",
    "\n",
    "def solution(priorities, location):\n",
    "    \n",
    "    q = []\n",
    "    prs = deque(priorities)\n",
    "    prs_loc = deque(range(len(prs)))\n",
    "    \n",
    "    while prs:\n",
    "        pr = prs.popleft()\n",
    "        pr_loc = prs_loc.popleft()\n",
    "        f = 0\n",
    "        for i in prs:\n",
    "            if pr < i:\n",
    "                f = 1\n",
    "                break\n",
    "                \n",
    "        if f == 1:\n",
    "            prs.append(pr)\n",
    "            prs_loc.append(pr_loc)\n",
    "            f = 0\n",
    "        else:\n",
    "            q.append(pr_loc)\n",
    "        \n",
    "    answer = q.index(location) + 1\n",
    "    return answer"
   ]
  },
  {
   "cell_type": "code",
   "execution_count": 25,
   "metadata": {},
   "outputs": [
    {
     "data": {
      "text/plain": [
       "1"
      ]
     },
     "execution_count": 25,
     "metadata": {},
     "output_type": "execute_result"
    }
   ],
   "source": [
    "priorities = [2, 1, 3, 2]\n",
    "location = 2\n",
    "solution(priorities, location)"
   ]
  },
  {
   "cell_type": "code",
   "execution_count": 26,
   "metadata": {},
   "outputs": [
    {
     "data": {
      "text/plain": [
       "5"
      ]
     },
     "execution_count": 26,
     "metadata": {},
     "output_type": "execute_result"
    }
   ],
   "source": [
    "priorities = [1, 1, 9, 1, 1, 1]\n",
    "location = 0\n",
    "solution(priorities, location)"
   ]
  },
  {
   "cell_type": "markdown",
   "metadata": {},
   "source": [
    "### 전화번호 목록\n",
    "https://programmers.co.kr/learn/courses/30/lessons/42577"
   ]
  },
  {
   "cell_type": "code",
   "execution_count": 1,
   "metadata": {},
   "outputs": [],
   "source": [
    "def solution(phone_book):\n",
    "    phone_book.sort()\n",
    "    for p1, p2 in zip(phone_book, phone_book[1:]):\n",
    "        if p2.startswith(p1):return False\n",
    "    return True"
   ]
  },
  {
   "cell_type": "code",
   "execution_count": 20,
   "metadata": {},
   "outputs": [],
   "source": [
    "def solution(phone_book):\n",
    "    phone_book.sort()\n",
    "    for i in range(len(phone_book)-1):\n",
    "        n = phone_book[i]\n",
    "        if n == phone_book[i+1][:len(n)]:return False\n",
    "    return True"
   ]
  },
  {
   "cell_type": "code",
   "execution_count": 21,
   "metadata": {
    "scrolled": true
   },
   "outputs": [
    {
     "data": {
      "text/plain": [
       "False"
      ]
     },
     "execution_count": 21,
     "metadata": {},
     "output_type": "execute_result"
    }
   ],
   "source": [
    "phone_book = [\"119\", \"97674223\", \"1195524421\"]\n",
    "solution(phone_book)"
   ]
  },
  {
   "cell_type": "code",
   "execution_count": 22,
   "metadata": {},
   "outputs": [
    {
     "data": {
      "text/plain": [
       "True"
      ]
     },
     "execution_count": 22,
     "metadata": {},
     "output_type": "execute_result"
    }
   ],
   "source": [
    "phone_book = [\"123\",\"456\",\"789\"]\n",
    "solution(phone_book)"
   ]
  },
  {
   "cell_type": "code",
   "execution_count": 23,
   "metadata": {},
   "outputs": [
    {
     "data": {
      "text/plain": [
       "False"
      ]
     },
     "execution_count": 23,
     "metadata": {},
     "output_type": "execute_result"
    }
   ],
   "source": [
    "phone_book = [\"12\",\"123\",\"1235\",\"567\",\"88\"]\n",
    "solution(phone_book)"
   ]
  },
  {
   "cell_type": "markdown",
   "metadata": {},
   "source": [
    "### 다리를 지나는 트럭\n",
    "https://programmers.co.kr/learn/courses/30/lessons/42583"
   ]
  },
  {
   "cell_type": "code",
   "execution_count": 1,
   "metadata": {},
   "outputs": [],
   "source": [
    "from collections import deque\n",
    "\n",
    "def solution(bridge_length, weight, truck_weights):\n",
    "    \n",
    "    on, q = deque([]), deque(truck_weights)\n",
    "    time = deque([])\n",
    "    on_sum = 0\n",
    "    sec = 0\n",
    "\n",
    "    while q:\n",
    "\n",
    "        if time and time[0] == bridge_length:\n",
    "            time.popleft()\n",
    "            on_sum -= on.popleft()\n",
    "\n",
    "        if (len(on) + 1 <= bridge_length) and (on_sum + q[0] <= weight):\n",
    "            truck = q.popleft()\n",
    "            on.append(truck)\n",
    "            on_sum += truck\n",
    "            time.append(0)\n",
    "\n",
    "        time = deque([i+1 for i in time])\n",
    "        sec += 1    \n",
    "\n",
    "    return sec+bridge_length"
   ]
  },
  {
   "cell_type": "code",
   "execution_count": 2,
   "metadata": {},
   "outputs": [
    {
     "data": {
      "text/plain": [
       "8"
      ]
     },
     "execution_count": 2,
     "metadata": {},
     "output_type": "execute_result"
    }
   ],
   "source": [
    "bridge_length = 2\n",
    "weight = 10\n",
    "truck_weights = [7,4,5,6]\n",
    "solution(bridge_length, weight, truck_weights)"
   ]
  },
  {
   "cell_type": "code",
   "execution_count": 3,
   "metadata": {},
   "outputs": [
    {
     "data": {
      "text/plain": [
       "52"
      ]
     },
     "execution_count": 3,
     "metadata": {},
     "output_type": "execute_result"
    }
   ],
   "source": [
    "bridge_length = 10\n",
    "weight = 10\n",
    "truck_weights = [7,4,5,6,5,2,3,1]\n",
    "solution(bridge_length, weight, truck_weights)"
   ]
  },
  {
   "cell_type": "code",
   "execution_count": 4,
   "metadata": {},
   "outputs": [
    {
     "data": {
      "text/plain": [
       "101"
      ]
     },
     "execution_count": 4,
     "metadata": {},
     "output_type": "execute_result"
    }
   ],
   "source": [
    "bridge_length = 100\n",
    "weight = 100\n",
    "truck_weights = [10]\n",
    "solution(bridge_length, weight, truck_weights)"
   ]
  },
  {
   "cell_type": "code",
   "execution_count": 5,
   "metadata": {},
   "outputs": [
    {
     "data": {
      "text/plain": [
       "110"
      ]
     },
     "execution_count": 5,
     "metadata": {},
     "output_type": "execute_result"
    }
   ],
   "source": [
    "bridge_length = 100\n",
    "weight = 100\n",
    "truck_weights = [10, 10, 10, 10, 10, 10, 10, 10, 10, 10]\n",
    "solution(bridge_length, weight, truck_weights)"
   ]
  },
  {
   "cell_type": "markdown",
   "metadata": {},
   "source": [
    "### 멀쩡한 사각형\n",
    "https://programmers.co.kr/learn/courses/30/lessons/62048"
   ]
  },
  {
   "cell_type": "code",
   "execution_count": 1,
   "metadata": {},
   "outputs": [],
   "source": [
    "import math as m\n",
    "\n",
    "def solution(w,h): return h*w - (h+w-m.gcd(h, w))"
   ]
  },
  {
   "cell_type": "code",
   "execution_count": 3,
   "metadata": {},
   "outputs": [],
   "source": [
    "import math as m\n",
    "\n",
    "def solution(w,h): \n",
    "    return h*w - (m.ceil(h/w)*w)"
   ]
  },
  {
   "cell_type": "code",
   "execution_count": 2,
   "metadata": {},
   "outputs": [
    {
     "data": {
      "text/plain": [
       "80"
      ]
     },
     "execution_count": 2,
     "metadata": {},
     "output_type": "execute_result"
    }
   ],
   "source": [
    "w = 8\n",
    "h = 12\n",
    "\n",
    "solution(w,h)"
   ]
  },
  {
   "cell_type": "markdown",
   "metadata": {},
   "source": [
    "### 괄호 변환\n",
    "https://programmers.co.kr/learn/courses/30/lessons/60058"
   ]
  },
  {
   "cell_type": "code",
   "execution_count": 1,
   "metadata": {},
   "outputs": [],
   "source": [
    "def solution(p):\n",
    "    \n",
    "    if p == '': return p\n",
    "\n",
    "    c = 0\n",
    "    flag1, flag2, flag3 = 0, 0, 0\n",
    "    for i in range(len(p)):\n",
    "\n",
    "        if p[i] == '(': c+=1\n",
    "        else: c-=1\n",
    "        \n",
    "        if c < 0: flag1 = 1\n",
    "            \n",
    "        if c == 0 and flag2 ==0:\n",
    "            u = p[:i+1]\n",
    "            v = p[i+1:]\n",
    "            flag2 = 1\n",
    "            if flag1 == 1: flag3 = 1\n",
    "    \n",
    "    if flag1 == 0: return p\n",
    "    \n",
    "    if flag3 == 0:\n",
    "        answer = u + solution(v)\n",
    "    else:\n",
    "        answer = '(' + solution(v) + ')'\n",
    "        answer += ''.join([')' if i == '(' else '(' for i in u[1:-1]])\n",
    "            \n",
    "    return answer"
   ]
  },
  {
   "cell_type": "code",
   "execution_count": 2,
   "metadata": {},
   "outputs": [
    {
     "data": {
      "text/plain": [
       "'(()())()'"
      ]
     },
     "execution_count": 2,
     "metadata": {},
     "output_type": "execute_result"
    }
   ],
   "source": [
    "p = \"(()())()\"\n",
    "\n",
    "solution(p)"
   ]
  },
  {
   "cell_type": "code",
   "execution_count": 3,
   "metadata": {},
   "outputs": [
    {
     "data": {
      "text/plain": [
       "'(((())))'"
      ]
     },
     "execution_count": 3,
     "metadata": {},
     "output_type": "execute_result"
    }
   ],
   "source": [
    "p = \")()()()(\"\n",
    "\n",
    "solution(p)"
   ]
  },
  {
   "cell_type": "code",
   "execution_count": 4,
   "metadata": {},
   "outputs": [
    {
     "data": {
      "text/plain": [
       "'()(())()'"
      ]
     },
     "execution_count": 4,
     "metadata": {},
     "output_type": "execute_result"
    }
   ],
   "source": [
    "p = \"()))((()\"\n",
    "\n",
    "solution(p)"
   ]
  },
  {
   "cell_type": "markdown",
   "metadata": {},
   "source": [
    "### 더 맵게\n",
    "https://programmers.co.kr/learn/courses/30/lessons/42626"
   ]
  },
  {
   "cell_type": "code",
   "execution_count": 1,
   "metadata": {},
   "outputs": [],
   "source": [
    "import heapq as h\n",
    "\n",
    "def solution(scov, K):\n",
    "\n",
    "    h.heapify(scov)\n",
    "    min_scov, c = h.heappop(scov), 0\n",
    "    \n",
    "    while min_scov < K:\n",
    "        if len(scov) == 0: return -1\n",
    "        h.heappush(scov, min_scov + h.heappop(scov) * 2)\n",
    "        min_scov = h.heappop(scov)\n",
    "        c += 1    \n",
    "    \n",
    "    return c"
   ]
  },
  {
   "cell_type": "code",
   "execution_count": 2,
   "metadata": {},
   "outputs": [
    {
     "data": {
      "text/plain": [
       "2"
      ]
     },
     "execution_count": 2,
     "metadata": {},
     "output_type": "execute_result"
    }
   ],
   "source": [
    "scov = [1, 2, 3, 9, 10, 12]\n",
    "K = 7\n",
    "\n",
    "solution(scov, K)"
   ]
  },
  {
   "cell_type": "markdown",
   "metadata": {},
   "source": [
    "### 소수 찾기\n",
    "https://programmers.co.kr/learn/courses/30/lessons/42839"
   ]
  },
  {
   "cell_type": "code",
   "execution_count": 27,
   "metadata": {},
   "outputs": [],
   "source": [
    "from itertools import permutations\n",
    "\n",
    "def prime(n):\n",
    "    if n == 2 or n == 3:\n",
    "        return True\n",
    "    if n % 2 == 0 or n == 1:\n",
    "        return False\n",
    "    for i in range(3, int(n**.5 + 1), 2): \n",
    "        if n % i == 0:\n",
    "            return False\n",
    "    return True\n",
    "\n",
    "def solution(numbers):\n",
    "    answer = []\n",
    "    for i in range(1, len(numbers)+1):\n",
    "        p = set(map(int, map(''.join, map(list, permutations(numbers, i)))))\n",
    "        for n in p:\n",
    "            if prime(n):\n",
    "                answer.append(n)\n",
    "    return len(set(answer))"
   ]
  },
  {
   "cell_type": "code",
   "execution_count": 2,
   "metadata": {},
   "outputs": [
    {
     "name": "stdout",
     "output_type": "stream",
     "text": [
      "0.00498509407043457\n"
     ]
    }
   ],
   "source": [
    "import time\n",
    "s = time.time()\n",
    "numbers = '173459'\n",
    "solution(numbers)\n",
    "print(time.time()-s)"
   ]
  },
  {
   "cell_type": "code",
   "execution_count": 28,
   "metadata": {
    "scrolled": true
   },
   "outputs": [
    {
     "data": {
      "text/plain": [
       "3"
      ]
     },
     "execution_count": 28,
     "metadata": {},
     "output_type": "execute_result"
    }
   ],
   "source": [
    "numbers = '1737296'\n",
    "#numbers = '011'\n",
    "numbers = '17'\n",
    "\n",
    "\n",
    "solution(numbers)"
   ]
  },
  {
   "cell_type": "code",
   "execution_count": 4,
   "metadata": {},
   "outputs": [],
   "source": [
    "from itertools import permutations\n",
    "\n",
    "def prime_list(n):\n",
    "    \n",
    "    ar_l = []\n",
    "    \n",
    "    for i in range(3, int((n)**(.5)+1), 2):\n",
    "        f = 0\n",
    "        for j in range(3, i, 2):\n",
    "            if i%j == 0: f = 1\n",
    "        if f == 0: ar_l.append(i)\n",
    "\n",
    "    prime_set = set(range(3, n+1, 2))\n",
    "    for i in ar_l: prime_set -= set(range(i*2, n+1, i))\n",
    "\n",
    "    return [2] + list(prime_set)\n",
    "\n",
    "def solution(numbers):\n",
    "    answer = []\n",
    "    for i in range(1, len(numbers)+1):\n",
    "        p = set(map(int, map(''.join, map(list, permutations(numbers, i)))))\n",
    "        p_l = prime_list(max(p))\n",
    "        for n in p:\n",
    "            if n in p_l:\n",
    "                answer.append(n)\n",
    "    return len(set(answer))"
   ]
  },
  {
   "cell_type": "code",
   "execution_count": 5,
   "metadata": {},
   "outputs": [
    {
     "name": "stdout",
     "output_type": "stream",
     "text": [
      "0.8955755233764648\n"
     ]
    }
   ],
   "source": [
    "import time\n",
    "s = time.time()\n",
    "numbers = '173459'\n",
    "solution(numbers)\n",
    "print(time.time()-s)"
   ]
  },
  {
   "cell_type": "code",
   "execution_count": 6,
   "metadata": {},
   "outputs": [],
   "source": [
    "from itertools import permutations\n",
    "def solution(n):\n",
    "    a = set()\n",
    "    for i in range(len(n)):\n",
    "        a |= set(map(int, map(\"\".join, permutations(list(n), i + 1))))\n",
    "    a -= set(range(0, 2))\n",
    "    for i in range(2, int(max(a) ** 0.5) + 1):\n",
    "        a -= set(range(i * 2, max(a) + 1, i))\n",
    "    return len(a)"
   ]
  },
  {
   "cell_type": "code",
   "execution_count": 7,
   "metadata": {},
   "outputs": [
    {
     "name": "stdout",
     "output_type": "stream",
     "text": [
      "0.317185640335083\n"
     ]
    }
   ],
   "source": [
    "import time\n",
    "s = time.time()\n",
    "numbers = '173459'\n",
    "solution(numbers)\n",
    "print(time.time()-s)"
   ]
  },
  {
   "cell_type": "markdown",
   "metadata": {},
   "source": [
    "### 큰 수 만들기\n",
    "https://programmers.co.kr/learn/courses/30/lessons/42883"
   ]
  },
  {
   "cell_type": "code",
   "execution_count": null,
   "metadata": {},
   "outputs": [],
   "source": [
    "def solution(number, k):\n",
    "    st = []\n",
    "    for i in range(len(number)):\n",
    "        while st and k > 0 and st[-1] < number[i]:\n",
    "            st.pop()\n",
    "            k -= 1\n",
    "        st.append(number[i])\n",
    "    return ''.join(st[:len(st) - k])"
   ]
  },
  {
   "cell_type": "code",
   "execution_count": 1,
   "metadata": {},
   "outputs": [],
   "source": [
    "def solution(n, k):\n",
    "    answer, c = '', 0\n",
    "    for i in range(len(n)):\n",
    "        j = 0\n",
    "        while j < len(answer):\n",
    "            if answer[-j-1] == '9': break\n",
    "            if n[i] > answer[-j-1] and c < k:\n",
    "                answer = answer[:-j-1]\n",
    "                j, c = j-1, c+1\n",
    "            j += 1\n",
    "        if c == k:return answer + n[i:]\n",
    "        answer += n[i]\n",
    "    return answer[:-k+c]"
   ]
  },
  {
   "cell_type": "code",
   "execution_count": 2,
   "metadata": {},
   "outputs": [
    {
     "data": {
      "text/plain": [
       "'94'"
      ]
     },
     "execution_count": 2,
     "metadata": {},
     "output_type": "execute_result"
    }
   ],
   "source": [
    "number = '1924'\n",
    "k = 2\n",
    "solution(number, k)"
   ]
  },
  {
   "cell_type": "code",
   "execution_count": 3,
   "metadata": {},
   "outputs": [
    {
     "data": {
      "text/plain": [
       "'3234'"
      ]
     },
     "execution_count": 3,
     "metadata": {},
     "output_type": "execute_result"
    }
   ],
   "source": [
    "number = '1231234'\n",
    "k = 3\n",
    "solution(number, k)"
   ]
  },
  {
   "cell_type": "code",
   "execution_count": 4,
   "metadata": {},
   "outputs": [
    {
     "data": {
      "text/plain": [
       "'775841'"
      ]
     },
     "execution_count": 4,
     "metadata": {},
     "output_type": "execute_result"
    }
   ],
   "source": [
    "number = '4177252841'\n",
    "k = 4\n",
    "solution(number, k)"
   ]
  },
  {
   "cell_type": "code",
   "execution_count": 5,
   "metadata": {},
   "outputs": [
    {
     "data": {
      "text/plain": [
       "'11'"
      ]
     },
     "execution_count": 5,
     "metadata": {},
     "output_type": "execute_result"
    }
   ],
   "source": [
    "number = '1111'\n",
    "k = 2\n",
    "solution(number, k)"
   ]
  },
  {
   "cell_type": "code",
   "execution_count": 6,
   "metadata": {},
   "outputs": [
    {
     "data": {
      "text/plain": [
       "'11'"
      ]
     },
     "execution_count": 6,
     "metadata": {},
     "output_type": "execute_result"
    }
   ],
   "source": [
    "number = '1010'\n",
    "k = 2\n",
    "solution(number, k)"
   ]
  },
  {
   "cell_type": "markdown",
   "metadata": {},
   "source": [
    "### 조이스틱\n",
    "https://programmers.co.kr/learn/courses/30/lessons/42860"
   ]
  },
  {
   "cell_type": "code",
   "execution_count": 1,
   "metadata": {},
   "outputs": [],
   "source": [
    "def solution(name):\n",
    "    n_ud = [min(n - 65, 91 - n) for n in map(ord, name)]\n",
    "    c, i = 0, 0\n",
    "\n",
    "    m, n_ud[c] = n_ud[c], 0\n",
    "    n_l = len(n_ud)\n",
    "\n",
    "    while sum(n_ud) != 0:\n",
    "        r, l = c, c\n",
    "        while True:\n",
    "            r, l = r + 1, l - 1\n",
    "            if r >= n_l: r = 0\n",
    "            if l < 0: l = n_l - 1\n",
    "            i += 1\n",
    "            if n_ud[r] != 0:\n",
    "                c = r\n",
    "                m += n_ud[c] + i\n",
    "                n_ud[c], i = 0, 0\n",
    "                break\n",
    "            if n_ud[l] != 0:\n",
    "                c = l\n",
    "                m += n_ud[c] + i\n",
    "                n_ud[c], i = 0, 0\n",
    "                break\n",
    "    return m"
   ]
  },
  {
   "cell_type": "code",
   "execution_count": 2,
   "metadata": {},
   "outputs": [
    {
     "data": {
      "text/plain": [
       "56"
      ]
     },
     "execution_count": 2,
     "metadata": {},
     "output_type": "execute_result"
    }
   ],
   "source": [
    "name = 'JEROEN'\n",
    "solution(name)"
   ]
  },
  {
   "cell_type": "code",
   "execution_count": 3,
   "metadata": {},
   "outputs": [
    {
     "data": {
      "text/plain": [
       "23"
      ]
     },
     "execution_count": 3,
     "metadata": {},
     "output_type": "execute_result"
    }
   ],
   "source": [
    "name = 'JAN'\n",
    "solution(name)"
   ]
  },
  {
   "cell_type": "code",
   "execution_count": 4,
   "metadata": {},
   "outputs": [
    {
     "data": {
      "text/plain": [
       "11"
      ]
     },
     "execution_count": 4,
     "metadata": {},
     "output_type": "execute_result"
    }
   ],
   "source": [
    "name = 'ABABAAAAAAABA'\n",
    "solution(name)"
   ]
  },
  {
   "cell_type": "code",
   "execution_count": 5,
   "metadata": {},
   "outputs": [
    {
     "data": {
      "text/plain": [
       "7"
      ]
     },
     "execution_count": 5,
     "metadata": {},
     "output_type": "execute_result"
    }
   ],
   "source": [
    "name = 'ABAAAAAAAAABB'\n",
    "solution(name)"
   ]
  },
  {
   "cell_type": "markdown",
   "metadata": {},
   "source": [
    "### H-index\n",
    "https://programmers.co.kr/learn/courses/30/lessons/42747"
   ]
  },
  {
   "cell_type": "code",
   "execution_count": 1,
   "metadata": {},
   "outputs": [],
   "source": [
    "def solution(citations):\n",
    "    citations.sort(reverse=True)\n",
    "    return max(map(min, enumerate(citations, start=1)))"
   ]
  },
  {
   "cell_type": "code",
   "execution_count": 2,
   "metadata": {},
   "outputs": [],
   "source": [
    "def solution(cit):\n",
    "    cit.sort()\n",
    "    for i in range(len(cit)):\n",
    "        if cit[i] >= len(cit[i:]): break\n",
    "    return min(cit[i], len(cit[i:]))"
   ]
  },
  {
   "cell_type": "code",
   "execution_count": 3,
   "metadata": {},
   "outputs": [
    {
     "name": "stdout",
     "output_type": "stream",
     "text": [
      "3\n",
      "2\n",
      "2\n",
      "3\n",
      "1\n",
      "0\n"
     ]
    }
   ],
   "source": [
    "cit = [3, 0, 6, 1, 5]\n",
    "print(solution(cit))\n",
    "cit = [24, 32]\n",
    "print(solution(cit))\n",
    "cit = [2, 7, 5]\n",
    "print(solution(cit))\n",
    "cit = [20,19,18,1]\n",
    "print(solution(cit))\n",
    "cit = [7]\n",
    "print(solution(cit))\n",
    "cit = [0, 0, 0]\n",
    "print(solution(cit))"
   ]
  },
  {
   "cell_type": "markdown",
   "metadata": {},
   "source": [
    "### 구명보트\n",
    "https://programmers.co.kr/learn/courses/30/lessons/42885"
   ]
  },
  {
   "cell_type": "code",
   "execution_count": 1,
   "metadata": {},
   "outputs": [],
   "source": [
    "from collections import deque\n",
    "\n",
    "def solution(people, limit):\n",
    "    people.sort()\n",
    "    p, n = deque(people), 0\n",
    "    while p:\n",
    "        if p[0] + p[-1] <= limit and len(p) != 1:\n",
    "            p.pop()\n",
    "            p.popleft()\n",
    "        else:\n",
    "            p.pop()\n",
    "        n += 1\n",
    "    return n"
   ]
  },
  {
   "cell_type": "code",
   "execution_count": 2,
   "metadata": {},
   "outputs": [],
   "source": [
    "def solution(people, limit):\n",
    "    people = sorted(people)\n",
    "    i = len(people) + 1\n",
    "    if limit in people:i = people.index(limit)\n",
    "    people, n = people[:i], len(people[i:])\n",
    "    while people:\n",
    "        boat = people.pop()\n",
    "        for p in people[::-1]:\n",
    "            if boat + p <= limit:\n",
    "                people.remove(p)\n",
    "                break\n",
    "        n += 1\n",
    "    return n"
   ]
  },
  {
   "cell_type": "code",
   "execution_count": 3,
   "metadata": {},
   "outputs": [
    {
     "data": {
      "text/plain": [
       "3"
      ]
     },
     "execution_count": 3,
     "metadata": {},
     "output_type": "execute_result"
    }
   ],
   "source": [
    "people = [70, 50, 80, 50]\n",
    "limit = 100\n",
    "solution(people, limit)"
   ]
  },
  {
   "cell_type": "code",
   "execution_count": 4,
   "metadata": {},
   "outputs": [
    {
     "data": {
      "text/plain": [
       "2"
      ]
     },
     "execution_count": 4,
     "metadata": {},
     "output_type": "execute_result"
    }
   ],
   "source": [
    "people = [40, 40, 40]\n",
    "limit = 100\n",
    "solution(people, limit)"
   ]
  },
  {
   "cell_type": "code",
   "execution_count": 5,
   "metadata": {},
   "outputs": [
    {
     "data": {
      "text/plain": [
       "5"
      ]
     },
     "execution_count": 5,
     "metadata": {},
     "output_type": "execute_result"
    }
   ],
   "source": [
    "people = [10,20,30,40,50,60,70,80,90]\n",
    "limit = 100\n",
    "solution(people, limit)"
   ]
  },
  {
   "cell_type": "markdown",
   "metadata": {},
   "source": [
    "### 올바른 괄호\n",
    "https://programmers.co.kr/learn/courses/30/lessons/12909"
   ]
  },
  {
   "cell_type": "code",
   "execution_count": 1,
   "metadata": {},
   "outputs": [],
   "source": [
    "def solution(s):\n",
    "    c = 0\n",
    "    for i in s:\n",
    "        if i == '(': c+=1\n",
    "        else: c-=1\n",
    "        if c < 0: return False\n",
    "    return c == 0"
   ]
  },
  {
   "cell_type": "code",
   "execution_count": 2,
   "metadata": {},
   "outputs": [],
   "source": [
    "def solution(s):\n",
    "    c = 0\n",
    "    for i in s:\n",
    "        c = c+1 if i == '(' else c-1\n",
    "        if c < 0: return False\n",
    "    return c == 0"
   ]
  },
  {
   "cell_type": "code",
   "execution_count": 3,
   "metadata": {},
   "outputs": [
    {
     "name": "stdout",
     "output_type": "stream",
     "text": [
      "True\n",
      "False\n"
     ]
    }
   ],
   "source": [
    "s = '()()'\n",
    "print(solution(s))\n",
    "s = '(()('\n",
    "print(solution(s))"
   ]
  },
  {
   "cell_type": "markdown",
   "metadata": {},
   "source": [
    "### 숫자야구"
   ]
  },
  {
   "cell_type": "code",
   "execution_count": 1,
   "metadata": {},
   "outputs": [],
   "source": [
    "from itertools import permutations\n",
    "\n",
    "def solution(baseball):\n",
    "    ball_data, select = list(map(list, permutations(map(str, range(1, 10)), 3))), []\n",
    "    for balls in baseball:\n",
    "        n, s, b = str(balls[0]), balls[1], balls[2]\n",
    "        if s == 3: return 1\n",
    "        for d in ball_data:\n",
    "            if s == 2:\n",
    "                if (n[0] == d[0]) and (n[1] == d[1]) and (n[2] != d[2]): select.append(d)\n",
    "                elif (n[0] == d[0]) and (n[2] == d[2]) and (n[1] != d[1]): select.append(d)\n",
    "                elif (n[1] == d[1]) and (n[2] == d[2]) and (n[0] != d[0]): select.append(d)\n",
    "            elif s ==1:\n",
    "                if b == 2:\n",
    "                    if (n[0] == d[0]) and (n[1] == d[2]) and (n[2] == d[1]): select.append(d)\n",
    "                    elif (n[1] == d[1]) and (n[0] == d[2]) and (n[2] == d[0]): select.append(d)\n",
    "                    elif (n[2] == d[2]) and (n[0] == d[1]) and (n[1] == d[0]): select.append(d)\n",
    "                elif b == 1:\n",
    "                    if (n[0] == d[0]) and (n[1] == d[2]) and (n[2] != d[1]): select.append(d)\n",
    "                    elif (n[0] == d[0]) and (n[1] != d[2]) and (n[2] == d[1]): select.append(d)\n",
    "                    elif (n[1] == d[1]) and (n[0] == d[2]) and (n[2] != d[0]): select.append(d)\n",
    "                    elif (n[1] == d[1]) and (n[0] != d[2]) and (n[2] == d[0]): select.append(d)\n",
    "                    elif (n[2] == d[2]) and (n[0] == d[1]) and (n[1] != d[0]): select.append(d)\n",
    "                    elif (n[2] == d[2]) and (n[0] != d[1]) and (n[1] == d[0]): select.append(d)\n",
    "                else:\n",
    "                    if (n[0] == d[0]) and (n[1] not in d) and (n[2] not in d): select.append(d)\n",
    "                    if (n[1] == d[1]) and (n[0] not in d) and (n[2] not in d): select.append(d)\n",
    "                    if (n[2] == d[2]) and (n[0] not in d) and (n[1] not in d): select.append(d)\n",
    "            elif b == 3:\n",
    "                if (n[0] != d[0]) and (n[1] != d[1]) and (n[2] != d[2]):\n",
    "                    if (n[0] in d) and (n[1] in d) and (n[2] in d): select.append(d)\n",
    "            elif b == 2:\n",
    "                if (n[0] != d[0]) and (n[1] != d[1]) and (n[2] != d[2]):\n",
    "                    if (n[0] in d) and (n[1] in d) and (n[2] not in d): select.append(d)\n",
    "                    elif (n[0] in d) and (n[2] in d) and (n[1] not in d): select.append(d)\n",
    "                    elif (n[1] in d) and (n[2] in d) and (n[0] not in d): select.append(d)\n",
    "            elif b == 1:\n",
    "                if (n[0] != d[0]) and (n[1] != d[1]) and (n[2] != d[2]):\n",
    "                    if (n[0] in d) and (n[1] not in d) and (n[2] not in d): select.append(d)\n",
    "                    elif (n[1] in d) and (n[0] not in d) and (n[2] not in d): select.append(d)\n",
    "                    elif (n[2] in d) and (n[0] not in d) and (n[1] not in d): select.append(d)\n",
    "            else:\n",
    "                if (n[0] not in d) and (n[1] not in d) and (n[2] not in d): select.append(d)\n",
    "        ball_data = select\n",
    "        select = []\n",
    "    return len(ball_data)"
   ]
  },
  {
   "cell_type": "code",
   "execution_count": 2,
   "metadata": {},
   "outputs": [
    {
     "data": {
      "text/plain": [
       "2"
      ]
     },
     "execution_count": 2,
     "metadata": {},
     "output_type": "execute_result"
    }
   ],
   "source": [
    "baseball = [[123, 1, 1], [356, 1, 0], [327, 2, 0], [489, 0, 1]]\n",
    "solution(baseball)"
   ]
  },
  {
   "cell_type": "code",
   "execution_count": 3,
   "metadata": {},
   "outputs": [],
   "source": [
    "from itertools import permutations\n",
    "def solution(baseball):\n",
    "    ball_data, select = list(map(list, permutations(map(str, range(1, 10)), 3))), []\n",
    "    for balls in baseball:\n",
    "        n, s = str(balls[0]), balls[1:]\n",
    "        for d in ball_data:\n",
    "            if s == [sum([n[i] == d[i] for i in range(3)]), sum([(n[i] != d[i]) & (list(n)[i] in d) for i in range(3)])]:select.append(d)\n",
    "        ball_data, select = select, []\n",
    "    return len(ball_data)"
   ]
  },
  {
   "cell_type": "code",
   "execution_count": 4,
   "metadata": {},
   "outputs": [
    {
     "data": {
      "text/plain": [
       "2"
      ]
     },
     "execution_count": 4,
     "metadata": {},
     "output_type": "execute_result"
    }
   ],
   "source": [
    "baseball = [[123, 1, 1], [356, 1, 0], [327, 2, 0], [489, 0, 1]]\n",
    "solution(baseball)"
   ]
  },
  {
   "cell_type": "markdown",
   "metadata": {},
   "source": [
    "### 다음 큰 숫자\n",
    "https://programmers.co.kr/learn/courses/30/lessons/12911"
   ]
  },
  {
   "cell_type": "code",
   "execution_count": 1,
   "metadata": {},
   "outputs": [],
   "source": [
    "def solution(n):\n",
    "    i = n+1\n",
    "    while sum(map(int, list(bin(n)[2:]))) != sum(map(int, list(bin(i)[2:]))):i+=1\n",
    "    return i"
   ]
  },
  {
   "cell_type": "code",
   "execution_count": 2,
   "metadata": {},
   "outputs": [],
   "source": [
    "def solution(n):\n",
    "    i = n+1\n",
    "    while bin(n).count('1') != bin(i).count('1'):i+=1\n",
    "    return i"
   ]
  },
  {
   "cell_type": "code",
   "execution_count": 3,
   "metadata": {},
   "outputs": [
    {
     "data": {
      "text/plain": [
       "83"
      ]
     },
     "execution_count": 3,
     "metadata": {},
     "output_type": "execute_result"
    }
   ],
   "source": [
    "n = 78\n",
    "solution(n)"
   ]
  },
  {
   "cell_type": "markdown",
   "metadata": {},
   "source": [
    "### 라면공장"
   ]
  },
  {
   "cell_type": "code",
   "execution_count": 1,
   "metadata": {},
   "outputs": [],
   "source": [
    "from collections import deque\n",
    "def solution(t, d, s, k):\n",
    "    d, s, l, c = deque(d), deque(s), [], 0\n",
    "    while t < k:\n",
    "        while d and d[0] <= t:\n",
    "            d.popleft()\n",
    "            l.append(s.popleft())\n",
    "        l.sort()\n",
    "        t, c = t + l.pop(), c + 1\n",
    "    return c"
   ]
  },
  {
   "cell_type": "code",
   "execution_count": 2,
   "metadata": {},
   "outputs": [],
   "source": [
    "def solution(t, d, s, k):\n",
    "    d, s, l, c = d[::-1], s[::-1], [], 0\n",
    "    while t < k:\n",
    "        while d and d[-1] <= t:\n",
    "            d.pop()\n",
    "            l.append(s.pop())\n",
    "        l.sort()\n",
    "        t, c = t + l.pop(), c + 1\n",
    "    return c"
   ]
  },
  {
   "cell_type": "code",
   "execution_count": 3,
   "metadata": {
    "scrolled": false
   },
   "outputs": [
    {
     "data": {
      "text/plain": [
       "4"
      ]
     },
     "execution_count": 3,
     "metadata": {},
     "output_type": "execute_result"
    }
   ],
   "source": [
    "stock, dates, supplies, k = 4, [1, 2, 3, 4], [10, 40, 30, 20], 100\n",
    "solution(stock, dates, supplies, k)"
   ]
  },
  {
   "cell_type": "code",
   "execution_count": 4,
   "metadata": {},
   "outputs": [
    {
     "data": {
      "text/plain": [
       "2"
      ]
     },
     "execution_count": 4,
     "metadata": {},
     "output_type": "execute_result"
    }
   ],
   "source": [
    "stock, dates, supplies, k = 4, [4,10,15], [20,5,10], 30\n",
    "solution(stock, dates, supplies, k)"
   ]
  },
  {
   "cell_type": "markdown",
   "metadata": {},
   "source": [
    "### 타겟 넘버\n",
    "https://programmers.co.kr/learn/courses/30/lessons/43165"
   ]
  },
  {
   "cell_type": "code",
   "execution_count": 1,
   "metadata": {},
   "outputs": [],
   "source": [
    "from itertools import combinations\n",
    "def solution(n, t):\n",
    "    c = 0\n",
    "    if sum(n) == t: c+=1\n",
    "    for i in range(len(n)):\n",
    "        for j in combinations(range(len(n)), i+1):\n",
    "            s = 0\n",
    "            for a in range(len(n)):\n",
    "                if a in j: s-=n[a]\n",
    "                else: s+=n[a]\n",
    "            if s == t: c+= 1\n",
    "    return c"
   ]
  },
  {
   "cell_type": "code",
   "execution_count": 2,
   "metadata": {},
   "outputs": [
    {
     "name": "stdout",
     "output_type": "stream",
     "text": [
      "5\n",
      "3\n"
     ]
    }
   ],
   "source": [
    "n, t = [1, 1, 1, 1, 1], 3\n",
    "print(solution(n, t))\n",
    "n, t = [2, 3, 5, 7, 9], 2\n",
    "print(solution(n, t))"
   ]
  },
  {
   "cell_type": "markdown",
   "metadata": {},
   "source": [
    "### 소수 만들기\n",
    "https://programmers.co.kr/learn/courses/30/lessons/12977"
   ]
  },
  {
   "cell_type": "code",
   "execution_count": 1,
   "metadata": {},
   "outputs": [],
   "source": [
    "from itertools import combinations\n",
    "\n",
    "def prime(n):\n",
    "    if n == 2 or n == 3: return True\n",
    "    if n % 2 == 0 or n == 1: return False\n",
    "    for i in range(3, int(n**.5 + 1), 2): \n",
    "        if n % i == 0: return False\n",
    "    return True\n",
    "\n",
    "def solution(nums): return sum(map(prime, map(sum, combinations(nums, 3))))"
   ]
  },
  {
   "cell_type": "code",
   "execution_count": 2,
   "metadata": {},
   "outputs": [
    {
     "name": "stdout",
     "output_type": "stream",
     "text": [
      "1\n",
      "4\n"
     ]
    }
   ],
   "source": [
    "nums = [1,2,3,4]\n",
    "print(solution(nums))\n",
    "nums = [1,2,7,6,4]\n",
    "print(solution(nums))"
   ]
  },
  {
   "cell_type": "markdown",
   "metadata": {},
   "source": [
    "### 최솟값 만들기\n",
    "https://programmers.co.kr/learn/courses/30/lessons/12941"
   ]
  },
  {
   "cell_type": "code",
   "execution_count": 1,
   "metadata": {},
   "outputs": [],
   "source": [
    "def solution(A,B):\n",
    "    A, B = map(sorted, [A, B])\n",
    "    return sum([A[i]*B[len(B)-i-1] for i in range(len(A))])"
   ]
  },
  {
   "cell_type": "code",
   "execution_count": 2,
   "metadata": {},
   "outputs": [
    {
     "name": "stdout",
     "output_type": "stream",
     "text": [
      "29\n",
      "10\n"
     ]
    }
   ],
   "source": [
    "A, B = [1, 4, 2], [5, 4, 4]\n",
    "print(solution(A,B))\n",
    "A, B = [1, 2], [3, 4]\n",
    "print(solution(A,B))"
   ]
  },
  {
   "cell_type": "markdown",
   "metadata": {},
   "source": [
    "### 숫자의 표현\n",
    "https://programmers.co.kr/learn/courses/30/lessons/12924"
   ]
  },
  {
   "cell_type": "code",
   "execution_count": 1,
   "metadata": {},
   "outputs": [],
   "source": [
    "def solution(n):\n",
    "    c = 0\n",
    "    for a in range(1, n + 1):\n",
    "        for b in range(a, n + 1):\n",
    "            s = (a + b) * (b-a+1) / 2\n",
    "            if s == n:\n",
    "                c+=1\n",
    "                break\n",
    "            elif s > n: break\n",
    "    return c"
   ]
  },
  {
   "cell_type": "code",
   "execution_count": 2,
   "metadata": {},
   "outputs": [],
   "source": [
    "def solution(n): sum([n%i==0 for i in range(1, n+1, 2)])"
   ]
  },
  {
   "cell_type": "code",
   "execution_count": 3,
   "metadata": {},
   "outputs": [],
   "source": [
    "n = 15\n",
    "solution(n)"
   ]
  },
  {
   "cell_type": "markdown",
   "metadata": {},
   "source": [
    "### 최댓값과 최솟값\n",
    "https://programmers.co.kr/learn/courses/30/lessons/12939"
   ]
  },
  {
   "cell_type": "code",
   "execution_count": 1,
   "metadata": {},
   "outputs": [],
   "source": [
    "def solution(s):\n",
    "    a = sorted(map(int, s.split()))\n",
    "    return '{} {}'.format(a[0], a[-1])"
   ]
  },
  {
   "cell_type": "code",
   "execution_count": 2,
   "metadata": {},
   "outputs": [
    {
     "name": "stdout",
     "output_type": "stream",
     "text": [
      "-4 -1\n",
      "1 4\n",
      "-1 -1\n"
     ]
    }
   ],
   "source": [
    "s = '-1 -2 -3 -4'\n",
    "print(solution(s))\n",
    "s = '1 2 3 4'\n",
    "print(solution(s))\n",
    "s = '-1 -1'\n",
    "print(solution(s))"
   ]
  },
  {
   "cell_type": "markdown",
   "metadata": {},
   "source": [
    "### 점프와 순간이동\n",
    "https://programmers.co.kr/learn/courses/30/lessons/12980"
   ]
  },
  {
   "cell_type": "code",
   "execution_count": 1,
   "metadata": {},
   "outputs": [],
   "source": [
    "def solution(n):\n",
    "    i = 0\n",
    "    while n:\n",
    "        if n&1: n, i = n - 1, i + 1\n",
    "        else: n //= 2\n",
    "    return i"
   ]
  },
  {
   "cell_type": "code",
   "execution_count": 2,
   "metadata": {},
   "outputs": [],
   "source": [
    "def solution(n): return bin(n).count('1')"
   ]
  },
  {
   "cell_type": "code",
   "execution_count": 3,
   "metadata": {},
   "outputs": [
    {
     "data": {
      "text/plain": [
       "5"
      ]
     },
     "execution_count": 3,
     "metadata": {},
     "output_type": "execute_result"
    }
   ],
   "source": [
    "n = 5000\n",
    "solution(n)"
   ]
  },
  {
   "cell_type": "markdown",
   "metadata": {},
   "source": [
    "### 행렬의 곱셈\n",
    "https://programmers.co.kr/learn/courses/30/lessons/12949"
   ]
  },
  {
   "cell_type": "code",
   "execution_count": 1,
   "metadata": {},
   "outputs": [],
   "source": [
    "import numpy as np\n",
    "def solution(arr1, arr2): return np.dot(arr1, arr2).tolist()"
   ]
  },
  {
   "cell_type": "code",
   "execution_count": 2,
   "metadata": {},
   "outputs": [],
   "source": [
    "def solution(arr1, arr2):\n",
    "    arr2, m = list(map(list, zip(*arr2))), []\n",
    "    for a1 in arr1:\n",
    "        n = []\n",
    "        for a2 in arr2: n.append(sum([i*j for i, j in zip(a1, a2)]))\n",
    "        m.append(n)\n",
    "    return m"
   ]
  },
  {
   "cell_type": "code",
   "execution_count": 3,
   "metadata": {
    "scrolled": true
   },
   "outputs": [
    {
     "data": {
      "text/plain": [
       "[[15, 15], [15, 15], [15, 15]]"
      ]
     },
     "execution_count": 3,
     "metadata": {},
     "output_type": "execute_result"
    }
   ],
   "source": [
    "arr1, arr2 = [[1, 4], [3, 2], [4, 1]], [[3, 3], [3, 3]]\n",
    "solution(arr1, arr2)"
   ]
  },
  {
   "cell_type": "code",
   "execution_count": 4,
   "metadata": {
    "scrolled": true
   },
   "outputs": [
    {
     "data": {
      "text/plain": [
       "[[22, 22, 11], [36, 28, 18], [29, 20, 14]]"
      ]
     },
     "execution_count": 4,
     "metadata": {},
     "output_type": "execute_result"
    }
   ],
   "source": [
    "arr1, arr2 = [[2, 3, 2], [4, 2, 4], [3, 1, 4]], [[5, 4, 3], [2, 4, 1], [3, 1, 1]]\n",
    "solution(arr1, arr2)"
   ]
  },
  {
   "cell_type": "markdown",
   "metadata": {},
   "source": [
    "### JadenCase 문자열 만들기\n",
    "https://programmers.co.kr/learn/courses/30/lessons/12951"
   ]
  },
  {
   "cell_type": "code",
   "execution_count": 1,
   "metadata": {},
   "outputs": [],
   "source": [
    "def solution(s):\n",
    "    m, s = s, ' '.join([r.capitalize() for r in s.split()])\n",
    "    for i in range(len(m)):\n",
    "        if len(s[i:]) == 0:\n",
    "            s += m[i:]\n",
    "            break\n",
    "        if m[i] == ' ' and s[i] != ' ': s = s[:i-1]+' '+s[i-1:]\n",
    "    return s"
   ]
  },
  {
   "cell_type": "code",
   "execution_count": 2,
   "metadata": {
    "scrolled": true
   },
   "outputs": [
    {
     "data": {
      "text/plain": [
       "'3people   Unfollowed   Me  '"
      ]
     },
     "execution_count": 2,
     "metadata": {},
     "output_type": "execute_result"
    }
   ],
   "source": [
    "s = '3peoPle   UnFollowed   me  '\n",
    "solution(s)"
   ]
  },
  {
   "cell_type": "markdown",
   "metadata": {},
   "source": [
    "### 피보나치 수\n",
    "https://programmers.co.kr/learn/courses/30/lessons/12945"
   ]
  },
  {
   "cell_type": "code",
   "execution_count": 1,
   "metadata": {},
   "outputs": [],
   "source": [
    "def solution(n): return int(1/5**.5*(((1+5**.5)/2)**n -((1-5**.5)/2)**n)%1234567)"
   ]
  },
  {
   "cell_type": "code",
   "execution_count": 2,
   "metadata": {},
   "outputs": [],
   "source": [
    "def solution(n):\n",
    "    m = [-1 for i in range(n+1)]\n",
    "    def fivo(n):\n",
    "        if n < 2: return n    \n",
    "        if m[n] != -1: return m[n]\n",
    "        m[n] = fivo(n-1)%1234567 + fivo(n-2)%1234567\n",
    "        return m[n]\n",
    "    return fivo(n)%1234567"
   ]
  },
  {
   "cell_type": "code",
   "execution_count": 3,
   "metadata": {},
   "outputs": [],
   "source": [
    "def solution(n):\n",
    "    if n < 2: return n\n",
    "    a, b = 0, 1\n",
    "    for i in range(n-1): a, b = b, a + b\n",
    "    return b%1234567"
   ]
  },
  {
   "cell_type": "code",
   "execution_count": 4,
   "metadata": {},
   "outputs": [
    {
     "data": {
      "text/plain": [
       "(2, 5)"
      ]
     },
     "execution_count": 4,
     "metadata": {},
     "output_type": "execute_result"
    }
   ],
   "source": [
    "solution(3), solution(5)"
   ]
  },
  {
   "cell_type": "code",
   "execution_count": 5,
   "metadata": {},
   "outputs": [
    {
     "data": {
      "text/plain": [
       "963606"
      ]
     },
     "execution_count": 5,
     "metadata": {},
     "output_type": "execute_result"
    }
   ],
   "source": [
    "solution(100)"
   ]
  },
  {
   "cell_type": "markdown",
   "metadata": {},
   "source": [
    "### 폰켓몬\n",
    "https://programmers.co.kr/learn/courses/30/lessons/1845"
   ]
  },
  {
   "cell_type": "code",
   "execution_count": 1,
   "metadata": {},
   "outputs": [],
   "source": [
    "def solution(n): return min(len(n)/2, len(set(n)))"
   ]
  },
  {
   "cell_type": "code",
   "execution_count": 2,
   "metadata": {},
   "outputs": [
    {
     "name": "stdout",
     "output_type": "stream",
     "text": [
      "2.0\n",
      "3.0\n",
      "2\n"
     ]
    }
   ],
   "source": [
    "nums = [3,1,2,3]\n",
    "print(solution(nums))\n",
    "nums = [3,3,3,2,2,4]\n",
    "print(solution(nums))\n",
    "nums = [3,3,3,2,2,2]\n",
    "print(solution(nums))"
   ]
  },
  {
   "cell_type": "markdown",
   "metadata": {},
   "source": [
    "### 짝지어 제거하기\n",
    "https://programmers.co.kr/learn/courses/30/lessons/12973"
   ]
  },
  {
   "cell_type": "code",
   "execution_count": 1,
   "metadata": {},
   "outputs": [],
   "source": [
    "def solution(s):\n",
    "    t = []\n",
    "    [t.pop() if t and t[-1] == i else t.append(i) for i in s]\n",
    "    return int(len(t)==0)"
   ]
  },
  {
   "cell_type": "code",
   "execution_count": 2,
   "metadata": {},
   "outputs": [
    {
     "name": "stdout",
     "output_type": "stream",
     "text": [
      "1\n",
      "0\n"
     ]
    }
   ],
   "source": [
    "s = 'baabaa'\n",
    "print(solution(s))\n",
    "s = 'cdcd'\n",
    "print(solution(s))"
   ]
  },
  {
   "cell_type": "markdown",
   "metadata": {},
   "source": [
    "### 예상 대진표\n",
    "https://programmers.co.kr/learn/courses/30/lessons/12985"
   ]
  },
  {
   "cell_type": "code",
   "execution_count": 1,
   "metadata": {},
   "outputs": [],
   "source": [
    "def solution(n,a,b):\n",
    "    p,c=sorted([a,b]),1\n",
    "    while True:\n",
    "        if p[0]&1:p[0]+=1\n",
    "        if p[1]&1:p[1]+=1\n",
    "        if p[0]==p[1]:return c\n",
    "        p[0],p[1],c=p[0]//2,p[1]//2,c+1"
   ]
  },
  {
   "cell_type": "code",
   "execution_count": 2,
   "metadata": {},
   "outputs": [
    {
     "data": {
      "text/plain": [
       "3"
      ]
     },
     "execution_count": 2,
     "metadata": {},
     "output_type": "execute_result"
    }
   ],
   "source": [
    "n, a, b = 8, 4, 7\n",
    "solution(n,a,b)"
   ]
  },
  {
   "cell_type": "markdown",
   "metadata": {},
   "source": [
    "### 영어 끝말잇기\n",
    "https://programmers.co.kr/learn/courses/30/lessons/12981"
   ]
  },
  {
   "cell_type": "code",
   "execution_count": 1,
   "metadata": {},
   "outputs": [],
   "source": [
    "def solution(n, words):\n",
    "    words.reverse()\n",
    "    m, i = [words.pop()], 0\n",
    "    while words:\n",
    "        w, i = words.pop(), i + 1\n",
    "        if m[-1][-1] != w[0] or w in m: return [i%n+1, i//n+1]\n",
    "        m.append(w)\n",
    "    return [0, 0]"
   ]
  },
  {
   "cell_type": "code",
   "execution_count": 2,
   "metadata": {},
   "outputs": [
    {
     "name": "stdout",
     "output_type": "stream",
     "text": [
      "[3, 3]\n",
      "[0, 0]\n",
      "[1, 3]\n",
      "[1, 2]\n",
      "[2, 2]\n",
      "[2, 2]\n"
     ]
    }
   ],
   "source": [
    "n, words = 3, [\"tank\", \"kick\", \"know\", \"wheel\", \"land\", \"dream\", \"mother\", \"robot\", \"tank\"]\n",
    "print(solution(n, words))\n",
    "n, words = 5, ['hello', 'observe', 'effect', 'take', 'either', 'recognize', 'encourage', 'ensure', 'establish', 'hang', 'gather', 'refer', 'reference', 'estimate', 'executive']\n",
    "print(solution(n, words))\n",
    "n, words = 2, ['hello', 'one', 'even', 'never', 'now', 'world', 'draw']\n",
    "print(solution(n, words))\n",
    "n, words = 2, ['qwe', 'eqwe', 'eqwe']\n",
    "print(solution(n, words))\n",
    "n, words = 2, ['land', 'dream', 'mom', 'mom', 'ror']\n",
    "print(solution(n, words))\n",
    "n, words = 2, ['land', 'dream', 'mom', 'mom']\n",
    "print(solution(n, words))"
   ]
  },
  {
   "cell_type": "markdown",
   "metadata": {},
   "source": [
    "### N개의 최소공배수\n",
    "https://programmers.co.kr/learn/courses/30/lessons/12953"
   ]
  },
  {
   "cell_type": "code",
   "execution_count": 1,
   "metadata": {},
   "outputs": [],
   "source": [
    "def LCM(m, n):\n",
    "    for i in range(1, m):\n",
    "        if (n*i)%m == 0:\n",
    "            return n*i\n",
    "    return n*m\n",
    "def solution(arr):\n",
    "    x = arr.pop()\n",
    "    while arr: x = LCM(x, arr.pop())\n",
    "    return x"
   ]
  },
  {
   "cell_type": "code",
   "execution_count": 2,
   "metadata": {},
   "outputs": [],
   "source": [
    "import math as m\n",
    "def LCM(x, y): return x*y // m.gcd(x, y)\n",
    "def solution(arr):\n",
    "    x = arr.pop()\n",
    "    while arr: x = LCM(x, arr.pop())\n",
    "    return x"
   ]
  },
  {
   "cell_type": "code",
   "execution_count": 3,
   "metadata": {
    "scrolled": true
   },
   "outputs": [
    {
     "name": "stdout",
     "output_type": "stream",
     "text": [
      "168\n",
      "6\n"
     ]
    }
   ],
   "source": [
    "arr = [2,6,8,14]\n",
    "print(solution(arr))\n",
    "arr = [1,2,3]\n",
    "print(solution(arr))"
   ]
  },
  {
   "cell_type": "markdown",
   "metadata": {},
   "source": [
    "### 땅따먹기\n",
    "https://programmers.co.kr/learn/courses/30/lessons/12913"
   ]
  },
  {
   "cell_type": "code",
   "execution_count": 1,
   "metadata": {},
   "outputs": [],
   "source": [
    "# key를 사용한 정렬\n",
    "land = [[1,2,3,5],[5,6,7,8],[4,3,2,1]]\n",
    "m_idx = [sorted(range(len(d)), key=lambda x: d[x]) for d in land]"
   ]
  },
  {
   "cell_type": "code",
   "execution_count": 2,
   "metadata": {},
   "outputs": [],
   "source": [
    "def solution(land):\n",
    "    s = [[0, 0, 0, 0] for _ in range(len(land)-1)]\n",
    "    for k in range(4): s[-1][k] = max([land[-2][k] + land[-1][j] for j in range(4) if j != k])\n",
    "    for i in range(len(land) - 2, 0, -1):\n",
    "        for k in range(4): s[i-1][k] = max([s[i][j] + land[i-1][k] for j in range(4) if j != k])\n",
    "    return max(s[0])"
   ]
  },
  {
   "cell_type": "code",
   "execution_count": 3,
   "metadata": {},
   "outputs": [
    {
     "name": "stdout",
     "output_type": "stream",
     "text": [
      "16\n",
      "20\n",
      "33\n",
      "409\n",
      "16\n",
      "115\n"
     ]
    }
   ],
   "source": [
    "land = [[1,2,3,5],[5,6,7,8],[4,3,2,1]]\n",
    "print(solution(land))\n",
    "land = [[4, 3, 2, 1], [2, 2, 2, 1], [6, 6, 6, 4], [8, 7, 6, 5]]\n",
    "print(solution(land))\n",
    "land = [[1, 2, 3, 5], [10, 11, 12, 11], [16, 15, 13, 13]]\n",
    "print(solution(land))\n",
    "land = [[1, 100, 15, 3], [1, 2, 3, 4], [100, 99, 98, 97], [97, 98, 99, 100], [4, 3, 2, 1], [100, 100, 100, 100], [1, 1, 1, 1]]\n",
    "print(solution(land))\n",
    "land = [[1, 2, 3, 4], [5, 6, 7, 9], [4, 3, 2, 1]]\n",
    "print(solution(land))\n",
    "land = [[1, 2, 3, 5], [5, 6, 7, 8], [4, 3, 2, 1], [100, 0, 9, 8]]\n",
    "print(solution(land))"
   ]
  },
  {
   "cell_type": "markdown",
   "metadata": {},
   "source": [
    "### 카펫\n",
    "https://programmers.co.kr/learn/courses/30/lessons/42842"
   ]
  },
  {
   "cell_type": "code",
   "execution_count": 1,
   "metadata": {},
   "outputs": [],
   "source": [
    "def solution(brown, red):\n",
    "    r_d = [[red//i, i] for i in range(1, int(red**.5+1)) if red % i == 0]\n",
    "    return [[d[0]+2, d[1]+2] for d in r_d if sum(d)*2+4 == brown][0]"
   ]
  },
  {
   "cell_type": "code",
   "execution_count": 2,
   "metadata": {},
   "outputs": [
    {
     "name": "stdout",
     "output_type": "stream",
     "text": [
      "[4, 3]\n",
      "[3, 3]\n",
      "[8, 6]\n"
     ]
    }
   ],
   "source": [
    "brown, red = 10, 2\n",
    "print(solution(brown, red))\n",
    "brown, red = 8, 1\n",
    "print(solution(brown, red))\n",
    "brown, red = 24, 24\n",
    "print(solution(brown, red))"
   ]
  },
  {
   "cell_type": "markdown",
   "metadata": {},
   "source": [
    "### 캐시\n",
    "https://programmers.co.kr/learn/courses/30/lessons/17680"
   ]
  },
  {
   "cell_type": "code",
   "execution_count": 1,
   "metadata": {},
   "outputs": [],
   "source": [
    "from collections import deque\n",
    "def solution(cacheSize, cities):\n",
    "    cache, db, t = deque([0]*cacheSize), deque([i.lower()for i in cities]), 0\n",
    "    if cacheSize == 0: return len(cities)*5 \n",
    "    while db:\n",
    "        d = db.popleft()\n",
    "        if d in cache:\n",
    "            cache.remove(d)\n",
    "            cache.append(d)\n",
    "            t+=1\n",
    "        else:\n",
    "            cache.popleft()\n",
    "            cache.append(d)\n",
    "            t+=5\n",
    "    return t"
   ]
  },
  {
   "cell_type": "code",
   "execution_count": 2,
   "metadata": {},
   "outputs": [
    {
     "name": "stdout",
     "output_type": "stream",
     "text": [
      "50\n",
      "21\n",
      "60\n",
      "52\n",
      "16\n",
      "25\n"
     ]
    }
   ],
   "source": [
    "cacheSize, cities = 3, ['Jeju', 'Pangyo', 'Seoul', 'NewYork', 'LA', 'Jeju', 'Pangyo', 'Seoul', 'NewYork', 'LA']\n",
    "print(solution(cacheSize, cities))\n",
    "cacheSize, cities = 3, ['Jeju', 'Pangyo', 'Seoul', 'Jeju', 'Pangyo', 'Seoul', 'Jeju', 'Pangyo', 'Seoul']\n",
    "print(solution(cacheSize, cities))\n",
    "cacheSize, cities = 2, ['Jeju', 'Pangyo', 'Seoul', 'NewYork', 'LA', 'SanFrancisco', 'Seoul', 'Rome', 'Paris', 'Jeju', 'NewYork', 'Rome']\n",
    "print(solution(cacheSize, cities))\n",
    "cacheSize, cities = 5, ['Jeju', 'Pangyo', 'Seoul', 'NewYork', 'LA', 'SanFrancisco', 'Seoul', 'Rome', 'Paris', 'Jeju', 'NewYork', 'Rome']\n",
    "print(solution(cacheSize, cities))\n",
    "cacheSize, cities = 2, ['Jeju', 'Pangyo', 'NewYork', 'newyork']\n",
    "print(solution(cacheSize, cities))\n",
    "cacheSize, cities = 0, ['Jeju', 'Pangyo', 'Seoul', 'NewYork', 'LA']\n",
    "print(solution(cacheSize, cities))"
   ]
  },
  {
   "cell_type": "markdown",
   "metadata": {},
   "source": [
    "### 오픈채팅방\n",
    "https://programmers.co.kr/learn/courses/30/lessons/42888"
   ]
  },
  {
   "cell_type": "code",
   "execution_count": 1,
   "metadata": {},
   "outputs": [],
   "source": [
    "def solution(record):\n",
    "    d, result = {}, []\n",
    "    for i in record:\n",
    "        i = i.split()\n",
    "        if i[0] == 'Enter': d[i[1]] = i[2]\n",
    "        elif i[0] == 'Change': d[i[1]] = i[2]\n",
    "    for i in record:\n",
    "        i = i.split()\n",
    "        if i[0] == 'Enter': result.append('%s님이 들어왔습니다.'%d[i[1]])\n",
    "        elif i[0] == 'Leave': result.append('%s님이 나갔습니다.'%d[i[1]])\n",
    "    return result"
   ]
  },
  {
   "cell_type": "code",
   "execution_count": 2,
   "metadata": {},
   "outputs": [
    {
     "data": {
      "text/plain": [
       "['Prodo님이 들어왔습니다.', 'Ryan님이 들어왔습니다.', 'Prodo님이 나갔습니다.', 'Prodo님이 들어왔습니다.']"
      ]
     },
     "execution_count": 2,
     "metadata": {},
     "output_type": "execute_result"
    }
   ],
   "source": [
    "record = [\"Enter uid1234 Muzi\", \"Enter uid4567 Prodo\",\"Leave uid1234\",\"Enter uid1234 Prodo\",\"Change uid4567 Ryan\"]\n",
    "solution(record)"
   ]
  },
  {
   "cell_type": "markdown",
   "metadata": {},
   "source": [
    "### 가장 큰 정사각형 찾기\n",
    "https://programmers.co.kr/learn/courses/30/lessons/12905"
   ]
  },
  {
   "cell_type": "code",
   "execution_count": 1,
   "metadata": {},
   "outputs": [],
   "source": [
    "def solution(board):\n",
    "    s = [[-1 for _ in range(len(board[0]))] for _ in range(len(board))]\n",
    "    for i in range(len(board)):\n",
    "        for j in range(len(board[0])):\n",
    "            if board[i][j] == 0:\n",
    "                s[i][j] = 0\n",
    "                continue\n",
    "            else:\n",
    "                if i == 0 or j == 0:\n",
    "                    s[i][j] = 1\n",
    "                    continue\n",
    "                else: s[i][j] = min(s[i-1][j], s[i][j-1], s[i-1][j-1]) + 1\n",
    "    return max(map(max, s)) ** 2"
   ]
  },
  {
   "cell_type": "code",
   "execution_count": 2,
   "metadata": {},
   "outputs": [
    {
     "name": "stdout",
     "output_type": "stream",
     "text": [
      "9\n",
      "4\n"
     ]
    }
   ],
   "source": [
    "board = [[0,1,1,1],[1,1,1,1],[1,1,1,1],[0,0,1,0]]\n",
    "print(solution(board))\n",
    "board = [[0,0,1,1],[1,1,1,1]]\n",
    "print(solution(board))"
   ]
  },
  {
   "cell_type": "markdown",
   "metadata": {},
   "source": [
    "### 튜플\n",
    "https://programmers.co.kr/learn/courses/30/lessons/64065"
   ]
  },
  {
   "cell_type": "code",
   "execution_count": 1,
   "metadata": {},
   "outputs": [],
   "source": [
    "def solution(s):\n",
    "    S = sorted([i.split(',') for i in s[2:-2].split('},{')], key=len)\n",
    "    a = []\n",
    "    for i in S:\n",
    "        for j in i:\n",
    "            j = int(j)\n",
    "            if j not in a:\n",
    "                a.append(j)\n",
    "    return a"
   ]
  },
  {
   "cell_type": "code",
   "execution_count": 2,
   "metadata": {},
   "outputs": [
    {
     "name": "stdout",
     "output_type": "stream",
     "text": [
      "[2, 1, 3, 4]\n",
      "[2, 1, 3, 4]\n",
      "[111, 20]\n",
      "[123]\n",
      "[3, 2, 4, 1]\n"
     ]
    }
   ],
   "source": [
    "s = \"{{2},{2,1},{2,1,3},{2,1,3,4}}\"\n",
    "print(solution(s))\n",
    "s = \"{{1,2,3},{2,1},{1,2,4,3},{2}}\"\n",
    "print(solution(s))\n",
    "s = \"{{20,111},{111}}\"\n",
    "print(solution(s))\n",
    "s = \"{{123}}\"\n",
    "print(solution(s))\n",
    "s = \"{{4,2,3},{3},{2,3,4,1},{2,3}}\"\n",
    "print(solution(s))"
   ]
  },
  {
   "cell_type": "markdown",
   "metadata": {},
   "source": [
    "### 뉴스 클러스터링\n",
    "https://programmers.co.kr/learn/courses/30/lessons/17677"
   ]
  },
  {
   "cell_type": "code",
   "execution_count": 3,
   "metadata": {},
   "outputs": [],
   "source": [
    "def ss(s): return [s[i:i+2].lower() for i in range(len(s)-1) if s[i:i+2].isalpha()]\n",
    "def solution(str1, str2):\n",
    "    s1, s2 = ss(str1), ss(str2)\n",
    "    if len(s1) <= len(s2): \n",
    "        s1, s2 = s2, s1\n",
    "    m, e = s1[:], 0\n",
    "    for t in s2:\n",
    "        if t in m:\n",
    "            m.remove(t)\n",
    "            e += 1\n",
    "    d = len(s1+s2) - e\n",
    "    if d == 0: return 65536\n",
    "    return int(e/d*65536)"
   ]
  },
  {
   "cell_type": "code",
   "execution_count": 4,
   "metadata": {},
   "outputs": [
    {
     "name": "stdout",
     "output_type": "stream",
     "text": [
      "16384\n",
      "65536\n",
      "43690\n",
      "65536\n",
      "39321\n",
      "9362\n",
      "32768\n"
     ]
    }
   ],
   "source": [
    "str1, str2 = 'FRANCE', 'french'\n",
    "print(solution(str1, str2))\n",
    "str1, str2 = 'handshake', 'shake hands'\n",
    "print(solution(str1, str2))\n",
    "str1, str2 = 'aa1+aa2', 'AAAA12'\n",
    "print(solution(str1, str2))\n",
    "str1, str2 = 'E=M*C^2','e=m*c^2'\n",
    "print(solution(str1, str2))\n",
    "str1, str2 = 'aaaaaa','aaaa'\n",
    "print(solution(str1, str2))\n",
    "str1, str2 = 'dyyvbAwadaa***','aa%fw@wadaEFESEDESFEa%#$2^^&rg3JGOD:A:\"g3gaa'\n",
    "print(solution(str1, str2))\n",
    "str1, str2 = 'J       abf se', ' Se  ja BF'\n",
    "print(solution(str1, str2))"
   ]
  },
  {
   "cell_type": "markdown",
   "metadata": {
    "scrolled": false
   },
   "source": [
    "### 수식 최대화\n",
    "https://programmers.co.kr/learn/courses/30/lessons/67257"
   ]
  },
  {
   "cell_type": "code",
   "execution_count": 1,
   "metadata": {},
   "outputs": [],
   "source": [
    "def solution(expression):\n",
    "    n, o = [], []\n",
    "    s = ''\n",
    "    for i in expression:\n",
    "        if i.isalnum():\n",
    "             s += i\n",
    "        else:\n",
    "            o.append(i)\n",
    "            n.append(s)\n",
    "            s = ''\n",
    "    n.append(s)\n",
    "\n",
    "    results = []\n",
    "    for ps in ['*+-', '*-+', '+*-', '+-*', '-*+', '-+*']:\n",
    "        o_copy, n_copy = o[:], n[:]\n",
    "        for p in ps:\n",
    "            while(1):\n",
    "                try:\n",
    "                    c = o_copy.index(p)\n",
    "                    o_copy[c] = 0\n",
    "                    e1, e2 = c, c + 1\n",
    "                    while(n_copy[e1] == '_' and e1 > 0): e1 -= 1\n",
    "                    while(n_copy[e2] == '_' and e2 < len(n) - 1): e2 += 1\n",
    "                    n_copy[e1], n_copy[e2] = '_', str(eval(n_copy[e1]+p+n_copy[e2]))\n",
    "                except: break\n",
    "        results.append(abs(int(n_copy[-1])))\n",
    "    return max(results)"
   ]
  },
  {
   "cell_type": "code",
   "execution_count": 2,
   "metadata": {},
   "outputs": [
    {
     "data": {
      "text/plain": [
       "60420"
      ]
     },
     "execution_count": 2,
     "metadata": {},
     "output_type": "execute_result"
    }
   ],
   "source": [
    "expression = \"100-200*300-500+20\"\n",
    "solution(expression)"
   ]
  },
  {
   "cell_type": "code",
   "execution_count": 3,
   "metadata": {},
   "outputs": [
    {
     "data": {
      "text/plain": [
       "300"
      ]
     },
     "execution_count": 3,
     "metadata": {},
     "output_type": "execute_result"
    }
   ],
   "source": [
    "expression = \"50*6-3*2\"\n",
    "solution(expression)"
   ]
  },
  {
   "cell_type": "markdown",
   "metadata": {},
   "source": [
    "### 프렌즈4블록\n",
    "https://programmers.co.kr/learn/courses/30/lessons/17679"
   ]
  },
  {
   "cell_type": "code",
   "execution_count": 1,
   "metadata": {},
   "outputs": [],
   "source": [
    "import numpy as np\n",
    "\n",
    "def solution(m, n, board):\n",
    "    b, answer = np.array(list(map(list, board))), 0\n",
    "    while 1:\n",
    "        s = np.zeros([m, n])\n",
    "        for i in range(m-1):\n",
    "            for j in range(n-1):\n",
    "                g = set(b[i:i+2, j:j+2].flatten())\n",
    "                if len(g) == 1 and g != {' '}: s[i:i+2, j:j+2] = 1\n",
    "        score, b = np.sum(s), b.astype(object)*~s.astype(bool)\n",
    "        for i in range(n): b[:, i] = np.array(list(''.join(b[:, i]).rjust(m)))\n",
    "        if not score: break\n",
    "        answer += score\n",
    "    return answer"
   ]
  },
  {
   "cell_type": "code",
   "execution_count": 2,
   "metadata": {},
   "outputs": [
    {
     "name": "stdout",
     "output_type": "stream",
     "text": [
      "14.0\n",
      "15.0\n"
     ]
    }
   ],
   "source": [
    "m, n, board = 4, 5, ['CCBDE', 'AAADE', 'AAABF', 'CCBBF']\n",
    "print(solution(m, n, board))\n",
    "m, n, board = 6, 6, ['TTTANT', 'RRFACC', 'RRRFCC', 'TRRRAA', 'TTMMMF', 'TMMTTJ']\n",
    "print(solution(m, n, board))"
   ]
  },
  {
   "cell_type": "markdown",
   "metadata": {},
   "source": [
    "### 후보키\n",
    "https://programmers.co.kr/learn/courses/30/lessons/42890"
   ]
  },
  {
   "cell_type": "code",
   "execution_count": 3,
   "metadata": {},
   "outputs": [],
   "source": [
    "from itertools import combinations as C\n",
    "import numpy as np\n",
    "\n",
    "def solution(relation):\n",
    "    r = np.array(relation)\n",
    "    K, n = [], len(r)\n",
    "\n",
    "    idx = range(len(r[0]))\n",
    "    for i in idx:\n",
    "        for j in C(idx, i+1):\n",
    "            if len(set(map(tuple, r[:, j]))) == n:\n",
    "                f = 1\n",
    "                for k in K:\n",
    "                    if set(k).issubset(j): f = 0\n",
    "                if f: K.append(j)\n",
    "    return len(K)"
   ]
  },
  {
   "cell_type": "code",
   "execution_count": 4,
   "metadata": {},
   "outputs": [
    {
     "data": {
      "text/plain": [
       "2"
      ]
     },
     "execution_count": 4,
     "metadata": {},
     "output_type": "execute_result"
    }
   ],
   "source": [
    "relation = [[\"100\",\"ryan\",\"music\",\"2\"],[\"200\",\"apeach\",\"math\",\"2\"],[\"300\",\"tube\",\"computer\",\"3\"],[\"400\",\"con\",\"computer\",\"4\"],[\"500\",\"muzi\",\"music\",\"3\"],[\"600\",\"apeach\",\"music\",\"2\"]]\n",
    "solution(relation)"
   ]
  },
  {
   "cell_type": "markdown",
   "metadata": {},
   "source": [
    "### 방금그곡\n",
    "https://programmers.co.kr/learn/courses/30/lessons/17683"
   ]
  },
  {
   "cell_type": "code",
   "execution_count": 2,
   "metadata": {},
   "outputs": [],
   "source": [
    "def music(melody):\n",
    "    M = [] \n",
    "    for i in range(len(melody)):\n",
    "        a = melody[i:i+2]\n",
    "        if len(a) == 2 and a[-1] == '#':\n",
    "            M.append(a)\n",
    "        elif melody[i] != '#':\n",
    "            M.append(a[0])\n",
    "    return M\n",
    "\n",
    "def solution(m, musicinfos):\n",
    "    result, m, max_t = '(None)', music(m), 0\n",
    "    for info in musicinfos:\n",
    "        info = info.split(',')\n",
    "        t = (int(info[1][:2]) - int(info[0][:2])) * 60 + int(info[1][3:]) - int(info[0][3:])\n",
    "        if t > max_t:\n",
    "            M = music(info[3])\n",
    "            M = (M * (t//len(M)+1))[:t]\n",
    "            for i in range(len(M) - len(m) + 1):\n",
    "                if m == M[i:i+len(m)]:\n",
    "                    result= info[2]\n",
    "                    max_t = t\n",
    "                    break\n",
    "    return result"
   ]
  },
  {
   "cell_type": "code",
   "execution_count": 3,
   "metadata": {},
   "outputs": [
    {
     "name": "stdout",
     "output_type": "stream",
     "text": [
      "HELLO\n",
      "FOO\n",
      "WORLD\n",
      "HAPPY\n"
     ]
    }
   ],
   "source": [
    "m, musicinfos = 'ABCDEFG', ['12:00,12:14,HELLO,CDEFGAB', '13:00,13:05,WORLD,ABCDEF']\n",
    "print(solution(m, musicinfos))\n",
    "m, musicinfos = 'CC#BCC#BCC#BCC#B', ['03:00,03:30,FOO,CC#B', '04:00,04:08,BAR,CC#BCC#BCC#B']\n",
    "print(solution(m, musicinfos))\n",
    "m, musicinfos = 'ABC', ['12:00,12:14,HELLO,C#DEFGAB', '13:00,13:05,WORLD,ABCDEF']\n",
    "print(solution(m, musicinfos))\n",
    "m, musicinfos = 'A#', ['13:00,13:02,HAPPY,B#A#']\n",
    "print(solution(m, musicinfos))"
   ]
  },
  {
   "cell_type": "markdown",
   "metadata": {},
   "source": [
    "### 압축\n",
    "https://programmers.co.kr/learn/courses/30/lessons/17684"
   ]
  },
  {
   "cell_type": "code",
   "execution_count": 1,
   "metadata": {},
   "outputs": [],
   "source": [
    "def solution(msg):\n",
    "    result, d = [], list(map(chr, range(65,91)))\n",
    "    while 1:\n",
    "        n = 1\n",
    "        while 1:\n",
    "            m = msg[:n]\n",
    "            if m in d: out = d.index(m) + 1\n",
    "            else:\n",
    "                d.append(m)\n",
    "                result.append(out)\n",
    "                msg = msg[n-1:]\n",
    "                break\n",
    "            n += 1\n",
    "            if n > len(msg): \n",
    "                result.append(d.index(msg) + 1)\n",
    "                return result"
   ]
  },
  {
   "cell_type": "code",
   "execution_count": 2,
   "metadata": {},
   "outputs": [
    {
     "name": "stdout",
     "output_type": "stream",
     "text": [
      "[11, 1, 27, 15]\n",
      "[20, 15, 2, 5, 15, 18, 14, 15, 20, 27, 29, 31, 36, 30, 32, 34]\n",
      "[1]\n",
      "[1, 2, 3, 1, 3]\n"
     ]
    }
   ],
   "source": [
    "msg = 'KAKAO'\n",
    "print(solution(msg))\n",
    "msg = 'TOBEORNOTTOBEORTOBEORNOT'\n",
    "print(solution(msg))\n",
    "msg = 'A'\n",
    "print(solution(msg))\n",
    "msg = 'ABCAC'\n",
    "print(solution(msg))"
   ]
  },
  {
   "cell_type": "markdown",
   "metadata": {},
   "source": [
    "### n진수 게임\n",
    "https://programmers.co.kr/learn/courses/30/lessons/17687"
   ]
  },
  {
   "cell_type": "code",
   "execution_count": 1,
   "metadata": {},
   "outputs": [],
   "source": [
    "def digit(N):\n",
    "    x, n, a = N[0], N[1], ''\n",
    "    if x == 0: return '0'\n",
    "    while x > 0:\n",
    "        x, mod = divmod(x, n)\n",
    "        if mod > 9:\n",
    "            mod = chr(mod + 55)\n",
    "        a += str(mod)\n",
    "    return a[::-1]\n",
    "\n",
    "def solution(n, t, m, p):\n",
    "    o = ''.join(map(digit, [[i, n] for i in range(m*t)]))\n",
    "    return ''.join([o[i*m:i*m+m][p-1] for i in range(len(o)//m)])[:t]"
   ]
  },
  {
   "cell_type": "code",
   "execution_count": 2,
   "metadata": {},
   "outputs": [
    {
     "name": "stdout",
     "output_type": "stream",
     "text": [
      "0111\n",
      "13579BDF01234567\n"
     ]
    }
   ],
   "source": [
    "n, t, m, p = 2, 4, 2, 1\n",
    "print(solution(n, t, m, p))\n",
    "n, t, m, p = 16, 16, 2, 2\n",
    "print(solution(n, t, m, p))"
   ]
  },
  {
   "cell_type": "markdown",
   "metadata": {},
   "source": [
    "### 파일명 정렬\n",
    "https://programmers.co.kr/learn/courses/30/lessons/17686"
   ]
  },
  {
   "cell_type": "code",
   "execution_count": 4,
   "metadata": {},
   "outputs": [],
   "source": [
    "def solution(files):\n",
    "    result, info = [], []\n",
    "    for i, file in enumerate(files):\n",
    "        f, t = 0, ''\n",
    "        for j in range(len(file)):\n",
    "            if f == 0 and file[j].isdigit():\n",
    "                h, n, f = file[:j], file[j:], 1\n",
    "            if f == 1 and file[j].isalpha():\n",
    "                n, t, f = n[:j-len(h)-1], n[j-len(h)-1:], 2\n",
    "        info.append([i, h.lower(), int(n)])\n",
    "\n",
    "    for idx in sorted(info, key = lambda x : (x[1], x[2], x[0])):\n",
    "        result.append(files[idx[0]])\n",
    "    return result"
   ]
  },
  {
   "cell_type": "code",
   "execution_count": 5,
   "metadata": {},
   "outputs": [
    {
     "data": {
      "text/plain": [
       "['img1.png', 'IMG01.GIF', 'img02.png', 'img2.JPG', 'img10.png', 'img12.png']"
      ]
     },
     "execution_count": 5,
     "metadata": {},
     "output_type": "execute_result"
    }
   ],
   "source": [
    "files = ['img12.png', 'img10.png', 'img02.png', 'img1.png', 'IMG01.GIF', 'img2.JPG']\n",
    "solution(files)"
   ]
  },
  {
   "cell_type": "code",
   "execution_count": null,
   "metadata": {},
   "outputs": [],
   "source": []
  }
 ],
 "metadata": {
  "kernelspec": {
   "display_name": "Python 3",
   "language": "python",
   "name": "python3"
  },
  "language_info": {
   "codemirror_mode": {
    "name": "ipython",
    "version": 3
   },
   "file_extension": ".py",
   "mimetype": "text/x-python",
   "name": "python",
   "nbconvert_exporter": "python",
   "pygments_lexer": "ipython3",
   "version": "3.7.6"
  }
 },
 "nbformat": 4,
 "nbformat_minor": 2
}
